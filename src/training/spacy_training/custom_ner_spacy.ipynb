{
 "cells": [
  {
   "cell_type": "code",
   "execution_count": 3,
   "metadata": {},
   "outputs": [],
   "source": [
    "import spacy"
   ]
  },
  {
   "cell_type": "code",
   "execution_count": 14,
   "metadata": {},
   "outputs": [
    {
     "name": "stdout",
     "output_type": "stream",
     "text": [
      "Collecting en-core-web-lg==3.4.0\n",
      "  Downloading https://github.com/explosion/spacy-models/releases/download/en_core_web_lg-3.4.0/en_core_web_lg-3.4.0-py3-none-any.whl (587.7 MB)\n",
      "     -------------------------------------- 587.7/587.7 MB 3.9 MB/s eta 0:00:00\n",
      "Requirement already satisfied: spacy<3.5.0,>=3.4.0 in c:\\users\\metes\\anaconda3\\envs\\custom_ner_api\\lib\\site-packages (from en-core-web-lg==3.4.0) (3.4.1)\n",
      "Requirement already satisfied: thinc<8.2.0,>=8.1.0 in c:\\users\\metes\\appdata\\roaming\\python\\python38\\site-packages (from spacy<3.5.0,>=3.4.0->en-core-web-lg==3.4.0) (8.1.4)\n",
      "Requirement already satisfied: wasabi<1.1.0,>=0.9.1 in c:\\users\\metes\\anaconda3\\envs\\custom_ner_api\\lib\\site-packages (from spacy<3.5.0,>=3.4.0->en-core-web-lg==3.4.0) (0.10.1)\n",
      "Requirement already satisfied: murmurhash<1.1.0,>=0.28.0 in c:\\users\\metes\\appdata\\roaming\\python\\python38\\site-packages (from spacy<3.5.0,>=3.4.0->en-core-web-lg==3.4.0) (1.0.8)\n",
      "Requirement already satisfied: spacy-loggers<2.0.0,>=1.0.0 in c:\\users\\metes\\anaconda3\\envs\\custom_ner_api\\lib\\site-packages (from spacy<3.5.0,>=3.4.0->en-core-web-lg==3.4.0) (1.0.3)\n",
      "Requirement already satisfied: pathy>=0.3.5 in c:\\users\\metes\\anaconda3\\envs\\custom_ner_api\\lib\\site-packages (from spacy<3.5.0,>=3.4.0->en-core-web-lg==3.4.0) (0.6.2)\n",
      "Requirement already satisfied: requests<3.0.0,>=2.13.0 in c:\\users\\metes\\anaconda3\\envs\\custom_ner_api\\lib\\site-packages (from spacy<3.5.0,>=3.4.0->en-core-web-lg==3.4.0) (2.28.1)\n",
      "Requirement already satisfied: preshed<3.1.0,>=3.0.2 in c:\\users\\metes\\appdata\\roaming\\python\\python38\\site-packages (from spacy<3.5.0,>=3.4.0->en-core-web-lg==3.4.0) (3.0.7)\n",
      "Requirement already satisfied: packaging>=20.0 in c:\\users\\metes\\anaconda3\\envs\\custom_ner_api\\lib\\site-packages (from spacy<3.5.0,>=3.4.0->en-core-web-lg==3.4.0) (21.3)\n",
      "Requirement already satisfied: setuptools in c:\\users\\metes\\anaconda3\\envs\\custom_ner_api\\lib\\site-packages (from spacy<3.5.0,>=3.4.0->en-core-web-lg==3.4.0) (65.5.0)\n",
      "Requirement already satisfied: numpy>=1.15.0 in c:\\users\\metes\\anaconda3\\envs\\custom_ner_api\\lib\\site-packages (from spacy<3.5.0,>=3.4.0->en-core-web-lg==3.4.0) (1.23.4)\n",
      "Requirement already satisfied: spacy-legacy<3.1.0,>=3.0.9 in c:\\users\\metes\\anaconda3\\envs\\custom_ner_api\\lib\\site-packages (from spacy<3.5.0,>=3.4.0->en-core-web-lg==3.4.0) (3.0.10)\n",
      "Requirement already satisfied: srsly<3.0.0,>=2.4.3 in c:\\users\\metes\\anaconda3\\envs\\custom_ner_api\\lib\\site-packages (from spacy<3.5.0,>=3.4.0->en-core-web-lg==3.4.0) (2.4.4)\n",
      "Requirement already satisfied: typer<0.5.0,>=0.3.0 in c:\\users\\metes\\anaconda3\\envs\\custom_ner_api\\lib\\site-packages (from spacy<3.5.0,>=3.4.0->en-core-web-lg==3.4.0) (0.4.2)\n",
      "Requirement already satisfied: langcodes<4.0.0,>=3.2.0 in c:\\users\\metes\\anaconda3\\envs\\custom_ner_api\\lib\\site-packages (from spacy<3.5.0,>=3.4.0->en-core-web-lg==3.4.0) (3.3.0)\n",
      "Requirement already satisfied: tqdm<5.0.0,>=4.38.0 in c:\\users\\metes\\anaconda3\\envs\\custom_ner_api\\lib\\site-packages (from spacy<3.5.0,>=3.4.0->en-core-web-lg==3.4.0) (4.64.1)\n",
      "Requirement already satisfied: pydantic!=1.8,!=1.8.1,<1.10.0,>=1.7.4 in c:\\users\\metes\\anaconda3\\envs\\custom_ner_api\\lib\\site-packages (from spacy<3.5.0,>=3.4.0->en-core-web-lg==3.4.0) (1.9.2)\n",
      "Requirement already satisfied: jinja2 in c:\\users\\metes\\anaconda3\\envs\\custom_ner_api\\lib\\site-packages (from spacy<3.5.0,>=3.4.0->en-core-web-lg==3.4.0) (3.1.2)\n",
      "Requirement already satisfied: catalogue<2.1.0,>=2.0.6 in c:\\users\\metes\\anaconda3\\envs\\custom_ner_api\\lib\\site-packages (from spacy<3.5.0,>=3.4.0->en-core-web-lg==3.4.0) (2.0.8)\n",
      "Requirement already satisfied: cymem<2.1.0,>=2.0.2 in c:\\users\\metes\\anaconda3\\envs\\custom_ner_api\\lib\\site-packages (from spacy<3.5.0,>=3.4.0->en-core-web-lg==3.4.0) (2.0.6)\n",
      "Requirement already satisfied: pyparsing!=3.0.5,>=2.0.2 in c:\\users\\metes\\anaconda3\\envs\\custom_ner_api\\lib\\site-packages (from packaging>=20.0->spacy<3.5.0,>=3.4.0->en-core-web-lg==3.4.0) (3.0.9)\n",
      "Requirement already satisfied: smart-open<6.0.0,>=5.2.1 in c:\\users\\metes\\anaconda3\\envs\\custom_ner_api\\lib\\site-packages (from pathy>=0.3.5->spacy<3.5.0,>=3.4.0->en-core-web-lg==3.4.0) (5.2.1)\n",
      "Requirement already satisfied: typing-extensions>=3.7.4.3 in c:\\users\\metes\\anaconda3\\envs\\custom_ner_api\\lib\\site-packages (from pydantic!=1.8,!=1.8.1,<1.10.0,>=1.7.4->spacy<3.5.0,>=3.4.0->en-core-web-lg==3.4.0) (4.4.0)\n",
      "Requirement already satisfied: idna<4,>=2.5 in c:\\users\\metes\\anaconda3\\envs\\custom_ner_api\\lib\\site-packages (from requests<3.0.0,>=2.13.0->spacy<3.5.0,>=3.4.0->en-core-web-lg==3.4.0) (3.4)\n",
      "Requirement already satisfied: charset-normalizer<3,>=2 in c:\\users\\metes\\anaconda3\\envs\\custom_ner_api\\lib\\site-packages (from requests<3.0.0,>=2.13.0->spacy<3.5.0,>=3.4.0->en-core-web-lg==3.4.0) (2.1.1)\n",
      "Requirement already satisfied: urllib3<1.27,>=1.21.1 in c:\\users\\metes\\anaconda3\\envs\\custom_ner_api\\lib\\site-packages (from requests<3.0.0,>=2.13.0->spacy<3.5.0,>=3.4.0->en-core-web-lg==3.4.0) (1.26.12)\n",
      "Requirement already satisfied: certifi>=2017.4.17 in c:\\users\\metes\\anaconda3\\envs\\custom_ner_api\\lib\\site-packages (from requests<3.0.0,>=2.13.0->spacy<3.5.0,>=3.4.0->en-core-web-lg==3.4.0) (2022.9.24)\n",
      "Requirement already satisfied: confection<1.0.0,>=0.0.1 in c:\\users\\metes\\appdata\\roaming\\python\\python38\\site-packages (from thinc<8.2.0,>=8.1.0->spacy<3.5.0,>=3.4.0->en-core-web-lg==3.4.0) (0.0.3)\n",
      "Requirement already satisfied: blis<0.8.0,>=0.7.8 in c:\\users\\metes\\appdata\\roaming\\python\\python38\\site-packages (from thinc<8.2.0,>=8.1.0->spacy<3.5.0,>=3.4.0->en-core-web-lg==3.4.0) (0.7.8)\n",
      "Requirement already satisfied: colorama in c:\\users\\metes\\anaconda3\\envs\\custom_ner_api\\lib\\site-packages (from tqdm<5.0.0,>=4.38.0->spacy<3.5.0,>=3.4.0->en-core-web-lg==3.4.0) (0.4.5)\n",
      "Requirement already satisfied: click<9.0.0,>=7.1.1 in c:\\users\\metes\\appdata\\roaming\\python\\python38\\site-packages (from typer<0.5.0,>=0.3.0->spacy<3.5.0,>=3.4.0->en-core-web-lg==3.4.0) (8.0.4)\n",
      "Requirement already satisfied: MarkupSafe>=2.0 in c:\\users\\metes\\anaconda3\\envs\\custom_ner_api\\lib\\site-packages (from jinja2->spacy<3.5.0,>=3.4.0->en-core-web-lg==3.4.0) (2.1.1)\n",
      "Installing collected packages: en-core-web-lg\n",
      "Successfully installed en-core-web-lg-3.4.0\n",
      "✔ Download and installation successful\n",
      "You can now load the package via spacy.load('en_core_web_lg')\n"
     ]
    },
    {
     "name": "stderr",
     "output_type": "stream",
     "text": [
      "2022-10-14 12:41:16.607958: W tensorflow/stream_executor/platform/default/dso_loader.cc:64] Could not load dynamic library 'cudart64_110.dll'; dlerror: cudart64_110.dll not found\n",
      "2022-10-14 12:41:16.608571: I tensorflow/stream_executor/cuda/cudart_stub.cc:29] Ignore above cudart dlerror if you do not have a GPU set up on your machine.\n",
      "WARNING: Ignoring invalid distribution -rotobuf (c:\\users\\metes\\anaconda3\\envs\\custom_ner_api\\lib\\site-packages)\n",
      "WARNING: Ignoring invalid distribution -rotobuf (c:\\users\\metes\\anaconda3\\envs\\custom_ner_api\\lib\\site-packages)\n",
      "WARNING: Ignoring invalid distribution -rotobuf (c:\\users\\metes\\anaconda3\\envs\\custom_ner_api\\lib\\site-packages)\n",
      "WARNING: Ignoring invalid distribution -rotobuf (c:\\users\\metes\\anaconda3\\envs\\custom_ner_api\\lib\\site-packages)\n",
      "WARNING: Ignoring invalid distribution -rotobuf (c:\\users\\metes\\anaconda3\\envs\\custom_ner_api\\lib\\site-packages)\n",
      "WARNING: Ignoring invalid distribution -rotobuf (c:\\users\\metes\\anaconda3\\envs\\custom_ner_api\\lib\\site-packages)\n",
      "WARNING: Ignoring invalid distribution -rotobuf (c:\\users\\metes\\anaconda3\\envs\\custom_ner_api\\lib\\site-packages)\n"
     ]
    }
   ],
   "source": [
    "#Select anyother pipeline according to gpu etc.\n",
    "!python -m spacy download en_core_web_lg "
   ]
  },
  {
   "cell_type": "code",
   "execution_count": 2,
   "metadata": {},
   "outputs": [],
   "source": [
    "import json\n",
    "\n",
    "with open('../../../data/250_sentences_annotated_data.jsonl', 'r') as data_file:\n",
    "    data = [json.loads(line) for line in data_file]\n",
    "  \n"
   ]
  },
  {
   "cell_type": "code",
   "execution_count": 3,
   "metadata": {},
   "outputs": [
    {
     "data": {
      "text/plain": [
       "list"
      ]
     },
     "execution_count": 3,
     "metadata": {},
     "output_type": "execute_result"
    }
   ],
   "source": [
    "type(data)"
   ]
  },
  {
   "cell_type": "code",
   "execution_count": 4,
   "metadata": {},
   "outputs": [
    {
     "data": {
      "text/plain": [
       "{'id': 3062,\n",
       " 'text': \"Summary\\n\\nSummary Companies Tesla down as Q3 deliveries miss market estimates\\n\\nU.S. factory activity slowest in ~2.5 years in Sept -ISM\\n\\nCredit Suisse, Citi cut 2022 year-end target for S&P 500\\n\\nIndexes up: Dow 2.66%, S&P 500 2.59%, Nasdaq 2.27%\\n\\n\\n\\n\\n\\n\\n\\n\\n\\n\\n\\n\\n\\n\\n\\nOct 3 (Reuters) - Wall Street's three major indexes rallied to close over 2% on Monday as U.S. Treasury yields tumbled on weaker-than-expected manufacturing data, increasing the appeal of stocks at the start of the year's final quarter.\",\n",
       " 'label': [[27, 33, 'CUSTOM_ORG'],\n",
       "  [78, 81, 'CUSTOM_PLACE'],\n",
       "  [136, 149, 'CUSTOM_ORG'],\n",
       "  [151, 156, 'CUSTOM_ORG'],\n",
       "  [267, 274, 'CUSTOM_ORG'],\n",
       "  [350, 353, 'CUSTOM_PLACE']]}"
      ]
     },
     "execution_count": 4,
     "metadata": {},
     "output_type": "execute_result"
    }
   ],
   "source": [
    "data[0]"
   ]
  },
  {
   "cell_type": "code",
   "execution_count": 5,
   "metadata": {},
   "outputs": [
    {
     "name": "stdout",
     "output_type": "stream",
     "text": [
      "{'text': \"Summary\\n\\nSummary Companies Tesla down as Q3 deliveries miss market estimates\\n\\nU.S. factory activity slowest in ~2.5 years in Sept -ISM\\n\\nCredit Suisse, Citi cut 2022 year-end target for S&P 500\\n\\nIndexes up: Dow 2.66%, S&P 500 2.59%, Nasdaq 2.27%\\n\\n\\n\\n\\n\\n\\n\\n\\n\\n\\n\\n\\n\\n\\n\\nOct 3 (Reuters) - Wall Street's three major indexes rallied to close over 2% on Monday as U.S. Treasury yields tumbled on weaker-than-expected manufacturing data, increasing the appeal of stocks at the start of the year's final quarter.\", 'entities': [[27, 33, 'CUSTOM_ORG'], [78, 81, 'CUSTOM_PLACE'], [136, 149, 'CUSTOM_ORG'], [151, 156, 'CUSTOM_ORG'], [267, 274, 'CUSTOM_ORG'], [350, 353, 'CUSTOM_PLACE']]}\n"
     ]
    }
   ],
   "source": [
    "#Remove id column and get the data \n",
    "training_data = []\n",
    "for row in data:\n",
    "  temp = {}\n",
    "  temp['text'] = row['text']\n",
    "  temp['entities'] = row['label']\n",
    "  training_data.append(temp)\n",
    "  \n",
    "print(training_data[0])"
   ]
  },
  {
   "cell_type": "markdown",
   "metadata": {},
   "source": [
    "#####  To train spacy model,we have to convert our data to format spacy understands which is Doc"
   ]
  },
  {
   "cell_type": "code",
   "execution_count": 6,
   "metadata": {},
   "outputs": [],
   "source": [
    "#Create empty spacy model and DocBin\n",
    "from spacy.tokens import DocBin\n",
    "from tqdm import tqdm\n",
    "\n",
    "blank_model = spacy.blank(\"en\") \n",
    "doc_bin = DocBin()"
   ]
  },
  {
   "cell_type": "code",
   "execution_count": 7,
   "metadata": {},
   "outputs": [
    {
     "name": "stderr",
     "output_type": "stream",
     "text": [
      "100%|██████████| 250/250 [00:00<00:00, 1198.07it/s]"
     ]
    },
    {
     "name": "stdout",
     "output_type": "stream",
     "text": [
      "Skip\n",
      "Skip\n",
      "Skip\n",
      "Skip\n",
      "Skip\n",
      "Skip\n",
      "Skip\n",
      "Skip\n",
      "Skip\n",
      "Skip\n",
      "Skip\n",
      "Skip\n",
      "Skip\n",
      "Skip\n",
      "Skip\n",
      "Skip\n",
      "Skip\n",
      "Skip\n",
      "Skip\n",
      "Skip\n",
      "Skip\n",
      "Skip\n",
      "Skip\n",
      "Skip\n",
      "Skip\n",
      "Skip\n",
      "Skip\n",
      "Skip\n",
      "Skip\n",
      "Skip\n",
      "Skip\n",
      "Skip\n",
      "Skip\n",
      "Skip\n",
      "Skip\n",
      "Skip\n",
      "Skip\n"
     ]
    },
    {
     "name": "stderr",
     "output_type": "stream",
     "text": [
      "\n"
     ]
    }
   ],
   "source": [
    "# Convert training data\n",
    "from spacy.util import filter_spans\n",
    "\n",
    "for sample  in tqdm(training_data): \n",
    "    text = sample['text']\n",
    "    labels = sample['entities']\n",
    "    doc = blank_model.make_doc(text) \n",
    "    ents = []\n",
    "    for start, end, label in labels:\n",
    "        span = doc.char_span(start, end, label=label, alignment_mode=\"contract\")\n",
    "        if span is None:\n",
    "            print(\"Skip\")\n",
    "        else:\n",
    "            ents.append(span)\n",
    "    filtered_ents = filter_spans(ents)\n",
    "    doc.ents = filtered_ents \n",
    "    doc_bin.add(doc)\n",
    "\n",
    "doc_bin.to_disk(\"train.spacy\")"
   ]
  },
  {
   "cell_type": "code",
   "execution_count": 8,
   "metadata": {},
   "outputs": [
    {
     "name": "stdout",
     "output_type": "stream",
     "text": [
      "✔ Auto-filled config with all values\n",
      "✔ Saved config\n",
      "config.cfg\n",
      "You can now add your data and train your pipeline:\n",
      "python -m spacy train config.cfg --paths.train ./train.spacy --paths.dev ./dev.spacy\n"
     ]
    },
    {
     "name": "stderr",
     "output_type": "stream",
     "text": [
      "2022-10-17 21:23:08.184309: W tensorflow/stream_executor/platform/default/dso_loader.cc:64] Could not load dynamic library 'cudart64_110.dll'; dlerror: cudart64_110.dll not found\n",
      "2022-10-17 21:23:08.184937: I tensorflow/stream_executor/cuda/cudart_stub.cc:29] Ignore above cudart dlerror if you do not have a GPU set up on your machine.\n",
      "2022-10-17 21:23:11.987705: W tensorflow/stream_executor/platform/default/dso_loader.cc:64] Could not load dynamic library 'cudart64_110.dll'; dlerror: cudart64_110.dll not found\n",
      "2022-10-17 21:23:11.989469: W tensorflow/stream_executor/platform/default/dso_loader.cc:64] Could not load dynamic library 'cublas64_11.dll'; dlerror: cublas64_11.dll not found\n",
      "2022-10-17 21:23:11.991256: W tensorflow/stream_executor/platform/default/dso_loader.cc:64] Could not load dynamic library 'cublasLt64_11.dll'; dlerror: cublasLt64_11.dll not found\n",
      "2022-10-17 21:23:11.993413: W tensorflow/stream_executor/platform/default/dso_loader.cc:64] Could not load dynamic library 'cufft64_10.dll'; dlerror: cufft64_10.dll not found\n",
      "2022-10-17 21:23:11.995296: W tensorflow/stream_executor/platform/default/dso_loader.cc:64] Could not load dynamic library 'curand64_10.dll'; dlerror: curand64_10.dll not found\n",
      "2022-10-17 21:23:11.997178: W tensorflow/stream_executor/platform/default/dso_loader.cc:64] Could not load dynamic library 'cusolver64_11.dll'; dlerror: cusolver64_11.dll not found\n",
      "2022-10-17 21:23:11.999092: W tensorflow/stream_executor/platform/default/dso_loader.cc:64] Could not load dynamic library 'cusparse64_11.dll'; dlerror: cusparse64_11.dll not found\n",
      "2022-10-17 21:23:12.001318: W tensorflow/stream_executor/platform/default/dso_loader.cc:64] Could not load dynamic library 'cudnn64_8.dll'; dlerror: cudnn64_8.dll not found\n",
      "2022-10-17 21:23:12.001906: W tensorflow/core/common_runtime/gpu/gpu_device.cc:1934] Cannot dlopen some GPU libraries. Please make sure the missing libraries mentioned above are installed properly if you would like to use GPU. Follow the guide at https://www.tensorflow.org/install/gpu for how to download and setup the required libraries for your platform.\n",
      "Skipping registering GPU devices...\n"
     ]
    }
   ],
   "source": [
    "#Basic config generated from spacy website https://spacy.io/usage/training#quickstart\n",
    "#Selected ner on UI\n",
    "!python -m spacy init fill-config base_config.cfg config.cfg"
   ]
  },
  {
   "cell_type": "code",
   "execution_count": 10,
   "metadata": {},
   "outputs": [
    {
     "name": "stdout",
     "output_type": "stream",
     "text": [
      "ℹ Saving to output directory: .\n",
      "ℹ Using CPU\n",
      "\u001b[1m\n",
      "=========================== Initializing pipeline ===========================\u001b[0m\n",
      "✔ Initialized pipeline\n",
      "\u001b[1m\n",
      "============================= Training pipeline =============================\u001b[0m\n",
      "ℹ Pipeline: ['tok2vec', 'ner']\n",
      "ℹ Initial learn rate: 0.001\n",
      "E    #       LOSS TOK2VEC  LOSS NER  ENTS_F  ENTS_P  ENTS_R  SCORE \n",
      "---  ------  ------------  --------  ------  ------  ------  ------\n",
      "  0       0          0.00     31.56    0.00    0.00    0.00    0.00\n",
      "✔ Saved pipeline to output directory\n",
      "model-last\n"
     ]
    },
    {
     "name": "stderr",
     "output_type": "stream",
     "text": [
      "2022-10-17 21:56:05.867020: W tensorflow/stream_executor/platform/default/dso_loader.cc:64] Could not load dynamic library 'cudart64_110.dll'; dlerror: cudart64_110.dll not found\n",
      "2022-10-17 21:56:05.867600: I tensorflow/stream_executor/cuda/cudart_stub.cc:29] Ignore above cudart dlerror if you do not have a GPU set up on your machine.\n",
      "2022-10-17 21:56:10.997164: W tensorflow/stream_executor/platform/default/dso_loader.cc:64] Could not load dynamic library 'cudart64_110.dll'; dlerror: cudart64_110.dll not found\n",
      "2022-10-17 21:56:10.999356: W tensorflow/stream_executor/platform/default/dso_loader.cc:64] Could not load dynamic library 'cublas64_11.dll'; dlerror: cublas64_11.dll not found\n",
      "2022-10-17 21:56:11.002041: W tensorflow/stream_executor/platform/default/dso_loader.cc:64] Could not load dynamic library 'cublasLt64_11.dll'; dlerror: cublasLt64_11.dll not found\n",
      "2022-10-17 21:56:11.004669: W tensorflow/stream_executor/platform/default/dso_loader.cc:64] Could not load dynamic library 'cufft64_10.dll'; dlerror: cufft64_10.dll not found\n",
      "2022-10-17 21:56:11.006748: W tensorflow/stream_executor/platform/default/dso_loader.cc:64] Could not load dynamic library 'curand64_10.dll'; dlerror: curand64_10.dll not found\n",
      "2022-10-17 21:56:11.008743: W tensorflow/stream_executor/platform/default/dso_loader.cc:64] Could not load dynamic library 'cusolver64_11.dll'; dlerror: cusolver64_11.dll not found\n",
      "2022-10-17 21:56:11.010883: W tensorflow/stream_executor/platform/default/dso_loader.cc:64] Could not load dynamic library 'cusparse64_11.dll'; dlerror: cusparse64_11.dll not found\n",
      "2022-10-17 21:56:11.013089: W tensorflow/stream_executor/platform/default/dso_loader.cc:64] Could not load dynamic library 'cudnn64_8.dll'; dlerror: cudnn64_8.dll not found\n",
      "2022-10-17 21:56:11.013613: W tensorflow/core/common_runtime/gpu/gpu_device.cc:1934] Cannot dlopen some GPU libraries. Please make sure the missing libraries mentioned above are installed properly if you would like to use GPU. Follow the guide at https://www.tensorflow.org/install/gpu for how to download and setup the required libraries for your platform.\n",
      "Skipping registering GPU devices...\n",
      "[2022-10-17 21:56:13,275] [INFO] Set up nlp object from config\n",
      "[2022-10-17 21:56:13,292] [INFO] Pipeline: ['tok2vec', 'ner']\n",
      "[2022-10-17 21:56:13,299] [INFO] Created vocabulary\n",
      "[2022-10-17 21:56:16,264] [INFO] Added vectors: en_core_web_lg\n",
      "[2022-10-17 21:56:18,135] [INFO] Finished initializing nlp object\n",
      "[2022-10-17 21:56:19,279] [INFO] Initialized pipeline components: ['tok2vec', 'ner']\n"
     ]
    }
   ],
   "source": [
    "#start training\n",
    "!python -m spacy train config.cfg --output ./ --paths.train ./train.spacy --paths.dev ./train.spacy"
   ]
  },
  {
   "cell_type": "code",
   "execution_count": 1,
   "metadata": {},
   "outputs": [
    {
     "data": {
      "text/plain": [
       "'../../models/spacy_model'"
      ]
     },
     "execution_count": 1,
     "metadata": {},
     "output_type": "execute_result"
    }
   ],
   "source": [
    "import shutil\n",
    "shutil.move(\"model-best\", \"../../models/spacy_model\")"
   ]
  },
  {
   "cell_type": "code",
   "execution_count": 7,
   "metadata": {},
   "outputs": [
    {
     "name": "stdout",
     "output_type": "stream",
     "text": [
      "Joerg Steinbach 0 15 CUSTOM_PERSON\n",
      "regional economy minister 21 46 CUSTOM_ROLE\n",
      "Brandenburg 50 61 CUSTOM_ORG\n",
      "Tesla 69 74 CUSTOM_ORG\n",
      "Berlin 96 102 CUSTOM_PLACE\n"
     ]
    }
   ],
   "source": [
    "# Inference Code\n",
    "nlp_ner = spacy.load(\"../../models/spacy_model\")\n",
    "\n",
    "doc = nlp_ner(\"Joerg Steinbach, the regional economy minister of Brandenburg, where Tesla has its factory near Berlin\") \n",
    "for ent in doc.ents:\n",
    "    print(ent.text, ent.start_char, ent.end_char, ent.label_)\n"
   ]
  },
  {
   "cell_type": "code",
   "execution_count": 8,
   "metadata": {},
   "outputs": [
    {
     "data": {
      "text/html": [
       "<span class=\"tex2jax_ignore\"><div class=\"entities\" style=\"line-height: 2.5; direction: ltr\">\n",
       "<mark class=\"entity\" style=\"background: #ddd; padding: 0.45em 0.6em; margin: 0 0.25em; line-height: 1; border-radius: 0.35em;\">\n",
       "    Joerg Steinbach\n",
       "    <span style=\"font-size: 0.8em; font-weight: bold; line-height: 1; border-radius: 0.35em; vertical-align: middle; margin-left: 0.5rem\">CUSTOM_PERSON</span>\n",
       "</mark>\n",
       ", the \n",
       "<mark class=\"entity\" style=\"background: #ddd; padding: 0.45em 0.6em; margin: 0 0.25em; line-height: 1; border-radius: 0.35em;\">\n",
       "    regional economy minister\n",
       "    <span style=\"font-size: 0.8em; font-weight: bold; line-height: 1; border-radius: 0.35em; vertical-align: middle; margin-left: 0.5rem\">CUSTOM_ROLE</span>\n",
       "</mark>\n",
       " of \n",
       "<mark class=\"entity\" style=\"background: #ddd; padding: 0.45em 0.6em; margin: 0 0.25em; line-height: 1; border-radius: 0.35em;\">\n",
       "    Brandenburg\n",
       "    <span style=\"font-size: 0.8em; font-weight: bold; line-height: 1; border-radius: 0.35em; vertical-align: middle; margin-left: 0.5rem\">CUSTOM_ORG</span>\n",
       "</mark>\n",
       ", where \n",
       "<mark class=\"entity\" style=\"background: #ddd; padding: 0.45em 0.6em; margin: 0 0.25em; line-height: 1; border-radius: 0.35em;\">\n",
       "    Tesla\n",
       "    <span style=\"font-size: 0.8em; font-weight: bold; line-height: 1; border-radius: 0.35em; vertical-align: middle; margin-left: 0.5rem\">CUSTOM_ORG</span>\n",
       "</mark>\n",
       " has its factory near \n",
       "<mark class=\"entity\" style=\"background: #ddd; padding: 0.45em 0.6em; margin: 0 0.25em; line-height: 1; border-radius: 0.35em;\">\n",
       "    Berlin\n",
       "    <span style=\"font-size: 0.8em; font-weight: bold; line-height: 1; border-radius: 0.35em; vertical-align: middle; margin-left: 0.5rem\">CUSTOM_PLACE</span>\n",
       "</mark>\n",
       "</div></span>"
      ],
      "text/plain": [
       "<IPython.core.display.HTML object>"
      ]
     },
     "metadata": {},
     "output_type": "display_data"
    }
   ],
   "source": [
    "spacy.displacy.render(doc, style=\"ent\")"
   ]
  },
  {
   "cell_type": "code",
   "execution_count": 9,
   "metadata": {},
   "outputs": [
    {
     "data": {
      "text/plain": [
       "('CUSTOM_ORG', 'CUSTOM_PERSON', 'CUSTOM_PLACE', 'CUSTOM_ROLE')"
      ]
     },
     "execution_count": 9,
     "metadata": {},
     "output_type": "execute_result"
    }
   ],
   "source": [
    "nlp_ner.get_pipe(\"ner\").labels"
   ]
  },
  {
   "cell_type": "code",
   "execution_count": null,
   "metadata": {},
   "outputs": [],
   "source": []
  }
 ],
 "metadata": {
  "kernelspec": {
   "display_name": "Python 3.8.13 ('custom_ner_api')",
   "language": "python",
   "name": "python3"
  },
  "language_info": {
   "codemirror_mode": {
    "name": "ipython",
    "version": 3
   },
   "file_extension": ".py",
   "mimetype": "text/x-python",
   "name": "python",
   "nbconvert_exporter": "python",
   "pygments_lexer": "ipython3",
   "version": "3.8.13"
  },
  "orig_nbformat": 4,
  "vscode": {
   "interpreter": {
    "hash": "65b0890c2d2158dcd8be9f47177c3a42c18c52e318c083338fe94160c27e23cb"
   }
  }
 },
 "nbformat": 4,
 "nbformat_minor": 2
}
